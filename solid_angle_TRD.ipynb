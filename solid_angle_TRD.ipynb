{
 "cells": [
  {
   "cell_type": "markdown",
   "metadata": {},
   "source": [
    "# Solid angle calculation via paper \n",
    "A. Van Oosterom and J. Strackee, \"The Solid Angle of a Plane Triangle,\" in IEEE Transactions on Biomedical Engineering, vol. BME-30, no. 2, pp. 125-126, Feb. 1983, doi: 10.1109/TBME.1983.325207."
   ]
  },
  {
   "cell_type": "code",
   "execution_count": 5,
   "metadata": {},
   "outputs": [],
   "source": [
    "def vec_len(vec):\n",
    "    return np.sqrt(vec.dot(vec))"
   ]
  },
  {
   "cell_type": "code",
   "execution_count": 8,
   "metadata": {},
   "outputs": [],
   "source": [
    "from math import atan2\n",
    "def solid_angle(R1, R2, R3):\n",
    "    N =  R1.dot(np.cross(R2, R3))\n",
    "    D = vec_len(R1)*vec_len(R2)*vec_len(R3) + R1.dot(R2)*vec_len(R3) + R1.dot(R3)*vec_len(R2) + R2.dot(R3)*vec_len(R1)\n",
    "    omega = 2*atan2(N,D)\n",
    "    return omega"
   ]
  },
  {
   "cell_type": "code",
   "execution_count": 14,
   "metadata": {},
   "outputs": [],
   "source": [
    "def calc(z0, dy, dim_x, dim_y):\n",
    "    R1 = np.array([-dim_x/2, dy, z0])\n",
    "    R2 = np.array([+dim_x/2, dy, z0])\n",
    "    R3 = np.array([+dim_x/2, dy - dim_y, z0])\n",
    "    R4 = np.array([-dim_x/2, dy - dim_y, z0])\n",
    "    omega1 = solid_angle(R2, R4, R1)\n",
    "    omega2 = solid_angle(R2, R4, R3)\n",
    "    return abs(omega1) +  abs(omega2)"
   ]
  },
  {
   "cell_type": "code",
   "execution_count": 39,
   "metadata": {},
   "outputs": [],
   "source": [
    "sector = {\"c_0_0\": [300.2, -53 -120, 120, 120],\n",
    "          \"c_0_1\": [312.8, -53 -120, 120, 120],\n",
    "          \"c_0_2\": [325.4, -53 -127, 127, 127],\n",
    "          \"c_0_3\": [338.0, -53 -134, 134, 134],\n",
    "          \"c_0_4\": [350.6, -53 -141, 141, 141],\n",
    "          \"c_0_5\": [363.2, -53 -143, 143, 143],\n",
    "          \"c_1_0\": [300.2, -53 , 120, 120],\n",
    "          \"c_1_1\": [312.8, -53 , 120, 120],\n",
    "          \"c_1_2\": [325.4, -53 , 127, 127],\n",
    "          \"c_1_3\": [338.0, -53 , 134, 134],\n",
    "          \"c_1_4\": [350.6, -53 , 141, 141],\n",
    "          \"c_1_5\": [363.2, -53 , 143, 143],\n",
    "          \"c_2_0\": [300.2, 53, 106, 106],\n",
    "          \"c_2_1\": [312.8, 53, 106, 106],\n",
    "          \"c_2_2\": [325.4, 53, 106, 106],\n",
    "          \"c_2_3\": [338.0, 53, 106, 106],\n",
    "          \"c_2_4\": [350.6, 53, 106, 106],\n",
    "          \"c_2_5\": [363.2, 53, 106, 106],\n",
    "          \"c_3_0\": [300.2, 53 +120, 120, 120],\n",
    "          \"c_3_1\": [312.8, 53 +120, 120, 120],\n",
    "          \"c_3_2\": [325.4, 53 +127, 127, 127],\n",
    "          \"c_3_3\": [338.0, 53 +134, 134, 134],\n",
    "          \"c_3_4\": [350.6, 53 +141, 141, 141],\n",
    "          \"c_3_5\": [363.2, 53 +143, 143, 143],\n",
    "          \"c_4_0\": [300.2, 53 +120+120, 120, 120],\n",
    "          \"c_4_1\": [312.8, 53 +120+120, 120, 120],\n",
    "          \"c_4_2\": [325.4, 53 +127+127, 127, 127],\n",
    "          \"c_4_3\": [338.0, 53 +134+134, 134, 134],\n",
    "          \"c_4_4\": [350.6, 53 +141+141, 141, 141],\n",
    "          \"c_4_5\": [363.2, 53 +143+143, 143, 143],\n",
    "         }"
   ]
  },
  {
   "cell_type": "code",
   "execution_count": 41,
   "metadata": {},
   "outputs": [
    {
     "name": "stdout",
     "output_type": "stream",
     "text": [
      "c_0_0 0.07861829517115891 ,\n",
      "c_0_1 0.07568499771431361 ,\n",
      "c_0_2 0.07795114617802425 ,\n",
      "c_0_3 0.08006711481712464 ,\n",
      "c_0_4 0.08204680741031922 ,\n",
      "c_0_5 0.0806403478966623 ,\n",
      "c_1_0 0.12786910109156452 ,\n",
      "c_1_1 0.11964810229912837 ,\n",
      "c_1_2 0.12409581988136771 ,\n",
      "c_1_3 0.12828711212377358 ,\n",
      "c_1_4 0.13224168076624945 ,\n",
      "c_1_5 0.12793085278269273 ,\n",
      "c_2_0 0.12092787945968365 ,\n",
      "c_2_1 0.1116457223636261 ,\n",
      "c_2_2 0.10338412911411944 ,\n",
      "c_2_3 0.0959999207769946 ,\n",
      "c_2_4 0.08937399307067563 ,\n",
      "c_2_5 0.08340665100905106 ,\n",
      "c_3_0 0.12786910109156452 ,\n",
      "c_3_1 0.11964810229912837 ,\n",
      "c_3_2 0.12409581988136771 ,\n",
      "c_3_3 0.12828711212377358 ,\n",
      "c_3_4 0.13224168076624945 ,\n",
      "c_3_5 0.12793085278269273 ,\n",
      "c_4_0 0.07861829517115893 ,\n",
      "c_4_1 0.07568499771431361 ,\n",
      "c_4_2 0.07795114617802423 ,\n",
      "c_4_3 0.08006711481712464 ,\n",
      "c_4_4 0.08204680741031924 ,\n",
      "c_4_5 0.08064034789666231 ,\n"
     ]
    }
   ],
   "source": [
    "for k,i in sector.items():\n",
    "    print(k,calc(*i), \",\")"
   ]
  },
  {
   "cell_type": "code",
   "execution_count": 43,
   "metadata": {},
   "outputs": [
    {
     "data": {
      "text/plain": [
       "1.5381646116392258"
      ]
     },
     "execution_count": 43,
     "metadata": {},
     "output_type": "execute_result"
    }
   ],
   "source": [
    "1/(0.07861829517115891/0.12092787945968365)"
   ]
  },
  {
   "cell_type": "code",
   "execution_count": null,
   "metadata": {},
   "outputs": [],
   "source": []
  }
 ],
 "metadata": {
  "kernelspec": {
   "display_name": "Python 3",
   "language": "python",
   "name": "python3"
  },
  "language_info": {
   "codemirror_mode": {
    "name": "ipython",
    "version": 3
   },
   "file_extension": ".py",
   "mimetype": "text/x-python",
   "name": "python",
   "nbconvert_exporter": "python",
   "pygments_lexer": "ipython3",
   "version": "3.8.5"
  }
 },
 "nbformat": 4,
 "nbformat_minor": 4
}
